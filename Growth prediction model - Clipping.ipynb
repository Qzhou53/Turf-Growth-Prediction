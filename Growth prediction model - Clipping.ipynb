{
 "cells": [
  {
   "cell_type": "markdown",
   "id": "214dec2f",
   "metadata": {},
   "source": [
    "# Cross Validation (optional)\n",
    "This is resaerch methods that I have to show in my research paper. So for research purpose, I first run \"cross-validation\" analysis to make sure the data does not have too much outliers, measnwhile I also test several different machine learning model, and according to the r2 and RMSE, random forest has the best performance. If random forest model has be chosen (which I have already know), the follwing steps are not necessary anymore."
   ]
  },
  {
   "cell_type": "code",
   "execution_count": 6,
   "id": "33410045",
   "metadata": {},
   "outputs": [],
   "source": [
    "import pandas as pd\n",
    "from numpy import mean\n",
    "from numpy import std\n",
    "import numpy as np\n",
    "from joblib import dump, load\n",
    "from pandas import DataFrame\n",
    "from sklearn.ensemble import RandomForestRegressor \n",
    "from sklearn.model_selection import train_test_split\n",
    "from matplotlib import pyplot as plt\n",
    "from sklearn import metrics\n",
    "from sklearn import preprocessing\n",
    "from sklearn import utils\n",
    "from sklearn.model_selection import cross_val_score\n",
    "from sklearn.model_selection import KFold\n",
    "from sklearn.metrics import mean_absolute_error\n",
    "from sklearn.linear_model import LinearRegression\n",
    "from sklearn.ensemble import GradientBoostingRegressor\n",
    "from sklearn.tree import DecisionTreeRegressor\n",
    "from sklearn.svm import SVR\n",
    "#from xgboost import XGBRegressor\n",
    "from sklearn.neural_network import MLPRegressor"
   ]
  },
  {
   "cell_type": "code",
   "execution_count": 7,
   "id": "aabd61a3",
   "metadata": {},
   "outputs": [],
   "source": [
    "data = pd.read_excel(\"C:\\\\Users\\\\qzhou9\\\\Growth model - clippings\\\\Data\\\\Noer clipping 2019-20_train.xlsx\")"
   ]
  },
  {
   "cell_type": "code",
   "execution_count": 8,
   "id": "b3162895",
   "metadata": {},
   "outputs": [],
   "source": [
    "#varaibles I used for training the model, detailed about what it actual means are listed in \"readme.doc\" file\n",
    "x=data[['mosit avg (3 days)','Rootzone','N rate (kg/ha/2wks)','Days grow','moist',\n",
    "        'NDRE','Traffic (rounds/week)','Tmax (°C)','Tmax (pre 1 day)',\n",
    "        'Tmax (pre 2 days)', 'Tmax (pre 3 days)', 'Tmax (pre 4 days)',\n",
    "        'Tmax (pre 5 days)', 'Tmax (pre 6 days)','Tmin (°C)','Tmin (pre 1 day)',\n",
    "        'Tmin (pre 2 days)', 'Tmin (pre 3 days)', 'Tmin (pre 4 days)',\n",
    "        'Tmin (pre 5 days)', 'Tmin (pre 6 days)','Tavg (°C)','Tavg (pre 1 day)',\n",
    "        'Tavg (pre 2 day)', 'Tavg (pre 3 day)', 'Tavg (pre 4 day)', 'Tavg (pre 5 day)',\n",
    "        'Tavg (pre 6 day)', 'Tavg (2 days accu)','Tavg (3 days accu)', 'Tavg (4 days accu)',\n",
    "        'Tavg (5 days accu)','Tavg (6 days accu)','Tavg (7 days accu)','Precip/day (cm)',\n",
    "        'precip (2 days accu)','precip (3 days accu)', 'precip (4 days accu)','precip (5 days accu)',\n",
    "        'precip (6 days accu)', 'precip (7 days accu)','ET (cm)','ET (2 days accu)',\n",
    "        'ET (3 days accu)', 'ET (4 days accu)', 'ET (5 days accu)',\n",
    "        'ET (6 days accu)', 'ET (7 days accu)', 'precip-ET','precip-ET(2 days accu)',\n",
    "        'precip-ET (3 days accu)', 'precip-ET (4 days accu)', 'precip-ET (5 days accu)',\n",
    "        'precip-ET (6 days accu)', 'precip-ET (7 days accu)',\n",
    "        'Wind (kph)','Wind avg (pre 1 day)','Wind avg (pre 2 days)',\n",
    "        'Wind avg (pre 3 days)', 'Wind avg (pre 4 days)','Wind avg (pre 5 days)','Wind avg (pre 6 days)',\n",
    "        'RH max','RH max (pre 1 day)','RH max (pre 2 days)', 'RH max (pre 3 days)',\n",
    "        'RH max (pre 4 days)', 'RH max (pre 5 days)','RH max (pre 6 days)', 'RH min',\n",
    "        'RH min (pre 1 day)','RH min (pre 2 days)','RH min (pre 3 days)', 'RH min (pre 4 days)',\n",
    "        'RH min (pre 5 days)', 'RH min (pre 6 days)','RH avg','RH avg (pre 1 day)','RH avg (pre 2 day)',\n",
    "        'RH avg (pre 3 day)','RH avg (pre 4 day)','RH avg (pre 5 day)','RH avg (pre 6 day)','RHavg (2 days accu)',\n",
    "        'RHavg (3 days accu)','RHavg (4 days accu)','RHavg (5 days accu)',\n",
    "        'RHavg (6 days accu)','RHavg (7 days accu)']]\n"
   ]
  },
  {
   "cell_type": "code",
   "execution_count": 9,
   "id": "856a3373",
   "metadata": {},
   "outputs": [],
   "source": [
    "y=data['Clipping (g/m2/day)']"
   ]
  },
  {
   "cell_type": "code",
   "execution_count": 10,
   "id": "202a69f1",
   "metadata": {},
   "outputs": [],
   "source": [
    "feature_names = ['mosit avg (3 days)','Rootzone','N rate (kg/ha/2wks)','Days grow','moist',\n",
    "        'NDRE','Traffic (rounds/week)','Tmax (°C)','Tmax (pre 1 day)',\n",
    "        'Tmax (pre 2 days)', 'Tmax (pre 3 days)', 'Tmax (pre 4 days)',\n",
    "        'Tmax (pre 5 days)', 'Tmax (pre 6 days)','Tmin (°C)','Tmin (pre 1 day)',\n",
    "        'Tmin (pre 2 days)', 'Tmin (pre 3 days)', 'Tmin (pre 4 days)',\n",
    "        'Tmin (pre 5 days)', 'Tmin (pre 6 days)','Tavg (°C)','Tavg (pre 1 day)',\n",
    "        'Tavg (pre 2 day)', 'Tavg (pre 3 day)', 'Tavg (pre 4 day)', 'Tavg (pre 5 day)',\n",
    "        'Tavg (pre 6 day)', 'Tavg (2 days accu)','Tavg (3 days accu)', 'Tavg (4 days accu)',\n",
    "        'Tavg (5 days accu)','Tavg (6 days accu)','Tavg (7 days accu)','Precip/day (cm)',\n",
    "        'precip (2 days accu)','precip (3 days accu)', 'precip (4 days accu)','precip (5 days accu)',\n",
    "        'precip (6 days accu)', 'precip (7 days accu)','ET (cm)','ET (2 days accu)',\n",
    "        'ET (3 days accu)', 'ET (4 days accu)', 'ET (5 days accu)',\n",
    "        'ET (6 days accu)', 'ET (7 days accu)', 'precip-ET','precip-ET(2 days accu)',\n",
    "        'precip-ET (3 days accu)', 'precip-ET (4 days accu)', 'precip-ET (5 days accu)',\n",
    "        'precip-ET (6 days accu)', 'precip-ET (7 days accu)',\n",
    "        'Wind (kph)','Wind avg (pre 1 day)','Wind avg (pre 2 days)',\n",
    "        'Wind avg (pre 3 days)', 'Wind avg (pre 4 days)','Wind avg (pre 5 days)','Wind avg (pre 6 days)',\n",
    "        'RH max','RH max (pre 1 day)','RH max (pre 2 days)', 'RH max (pre 3 days)',\n",
    "        'RH max (pre 4 days)', 'RH max (pre 5 days)','RH max (pre 6 days)', 'RH min',\n",
    "        'RH min (pre 1 day)','RH min (pre 2 days)','RH min (pre 3 days)', 'RH min (pre 4 days)',\n",
    "        'RH min (pre 5 days)', 'RH min (pre 6 days)','RH avg','RH avg (pre 1 day)','RH avg (pre 2 day)',\n",
    "        'RH avg (pre 3 day)','RH avg (pre 4 day)','RH avg (pre 5 day)','RH avg (pre 6 day)','RHavg (2 days accu)',\n",
    "        'RHavg (3 days accu)','RHavg (4 days accu)','RHavg (5 days accu)',\n",
    "        'RHavg (6 days accu)','RHavg (7 days accu)']"
   ]
  },
  {
   "cell_type": "markdown",
   "id": "707463b9",
   "metadata": {},
   "source": [
    "**Only run one of follwing cell each time for testing the different machine learning models"
   ]
  },
  {
   "cell_type": "code",
   "execution_count": 11,
   "id": "9c7ced77",
   "metadata": {},
   "outputs": [],
   "source": [
    "#1. RF (bagging)\n",
    "model = RandomForestRegressor(max_depth = 100, n_estimators = 100, random_state=1)\n"
   ]
  },
  {
   "cell_type": "code",
   "execution_count": 7,
   "id": "8d3246e0",
   "metadata": {},
   "outputs": [],
   "source": [
    "#2. linear regression\n",
    "model = LinearRegression()"
   ]
  },
  {
   "cell_type": "code",
   "execution_count": 8,
   "id": "2c9f0a18",
   "metadata": {},
   "outputs": [],
   "source": [
    "#3. GradientBoosting (boosting)\n",
    "model = GradientBoostingRegressor(n_estimators=100,  max_depth=100, random_state=1, loss='ls')"
   ]
  },
  {
   "cell_type": "code",
   "execution_count": 9,
   "id": "5b596c07",
   "metadata": {},
   "outputs": [],
   "source": [
    "#4. nerual networ\n",
    "model = MLPRegressor(hidden_layer_sizes=(1), random_state=1)"
   ]
  },
  {
   "cell_type": "code",
   "execution_count": 10,
   "id": "dcc6d131",
   "metadata": {},
   "outputs": [
    {
     "ename": "NameError",
     "evalue": "name 'XGBRegressor' is not defined",
     "output_type": "error",
     "traceback": [
      "\u001b[1;31m---------------------------------------------------------------------------\u001b[0m",
      "\u001b[1;31mNameError\u001b[0m                                 Traceback (most recent call last)",
      "Input \u001b[1;32mIn [10]\u001b[0m, in \u001b[0;36m<cell line: 2>\u001b[1;34m()\u001b[0m\n\u001b[0;32m      1\u001b[0m \u001b[38;5;66;03m#5. XGBoost\u001b[39;00m\n\u001b[1;32m----> 2\u001b[0m model \u001b[38;5;241m=\u001b[39m \u001b[43mXGBRegressor\u001b[49m(random_state\u001b[38;5;241m=\u001b[39m\u001b[38;5;241m1\u001b[39m)\n",
      "\u001b[1;31mNameError\u001b[0m: name 'XGBRegressor' is not defined"
     ]
    }
   ],
   "source": [
    "#5. XGBoost\n",
    "model = XGBRegressor(random_state=1)"
   ]
  },
  {
   "cell_type": "code",
   "execution_count": 11,
   "id": "4866c699",
   "metadata": {},
   "outputs": [],
   "source": [
    "#6. decisiontree\n",
    "model = DecisionTreeRegressor(random_state=1)"
   ]
  },
  {
   "cell_type": "code",
   "execution_count": null,
   "id": "0a0b591d",
   "metadata": {},
   "outputs": [],
   "source": [
    "#7. Support vector regression\n",
    "model = SVR()"
   ]
  },
  {
   "cell_type": "markdown",
   "id": "6eae610b",
   "metadata": {},
   "source": [
    "**Run every cell again"
   ]
  },
  {
   "cell_type": "code",
   "execution_count": 12,
   "id": "25060294",
   "metadata": {},
   "outputs": [],
   "source": [
    "#here I seperate the data into four subsets to do cross-validation analysis, we can change it to X numbers\n",
    "kf = KFold(n_splits=4, random_state=None, shuffle=False)\n",
    "cv_results = cross_val_score(model, x, y, cv=kf)"
   ]
  },
  {
   "cell_type": "code",
   "execution_count": 13,
   "id": "6dd6bc4b",
   "metadata": {},
   "outputs": [
    {
     "name": "stdout",
     "output_type": "stream",
     "text": [
      "[0.66099379 0.59912463 0.76382531 0.53127689]\n",
      "Avg accuracy: 0.6388051562329128\n",
      "standard divation of accuracy: 0.08552666835454348\n"
     ]
    }
   ],
   "source": [
    "print(cv_results)\n",
    "print(\"Avg accuracy: {}\".format(cv_results.mean()))\n",
    "print(\"standard divation of accuracy: {}\".format(cv_results.std()))\n",
    "mse = cross_val_score(model, x, y, cv=kf, scoring='neg_mean_squared_error')\n",
    "mse_scores = -mse\n",
    "rmse_scores=np.sqrt(mse_scores)"
   ]
  },
  {
   "cell_type": "code",
   "execution_count": 14,
   "id": "2e6b23b9",
   "metadata": {},
   "outputs": [
    {
     "name": "stdout",
     "output_type": "stream",
     "text": [
      "RMSE: 0.33877014643817255\n"
     ]
    }
   ],
   "source": [
    "print('RMSE:',rmse_scores.mean())"
   ]
  },
  {
   "cell_type": "code",
   "execution_count": 15,
   "id": "e26a9733",
   "metadata": {
    "scrolled": true
   },
   "outputs": [
    {
     "name": "stdout",
     "output_type": "stream",
     "text": [
      "RMSE(std): 0.06662550496153735\n"
     ]
    }
   ],
   "source": [
    "print('RMSE(std):',rmse_scores.std())"
   ]
  },
  {
   "cell_type": "markdown",
   "id": "457684e9",
   "metadata": {},
   "source": [
    "# Random Forest Model Building\n",
    "Buidling and evaluating random forest model based on historical data (in this case, 2019 and 2020 data that collected from Plots b17 and B19 from O.J. Noer Turfgrass facilities). The feastures I used to predicting clipping yield was listed as \"feature names\" which you could find the correspinsding data in the excel file named \"C:\\\\Users\\\\qzhou9\\\\Growth model - clippings\\\\Noer clipping 2019-20_train.xlsx\". \n",
    "\n",
    "First buiding the RF model:"
   ]
  },
  {
   "cell_type": "code",
   "execution_count": 16,
   "id": "e38cdc31",
   "metadata": {},
   "outputs": [],
   "source": [
    "import numpy as np\n",
    "import pandas as pd\n",
    "from sklearn.model_selection import train_test_split\n",
    "from sklearn.ensemble import RandomForestClassifier\n",
    "from sklearn import preprocessing\n",
    "from sklearn import utils\n",
    "from sklearn import metrics\n",
    "import matplotlib.pyplot as plt\n",
    "from matplotlib.pyplot import figure\n",
    "import seaborn as sns\n",
    "from sklearn.model_selection import train_test_split\n",
    "from sklearn.ensemble import RandomForestRegressor\n",
    "from sklearn.metrics import mean_squared_error\n",
    "from joblib import dump, load\n",
    "from pandas import DataFrame"
   ]
  },
  {
   "cell_type": "code",
   "execution_count": 17,
   "id": "c7d2ee19",
   "metadata": {
    "scrolled": true
   },
   "outputs": [],
   "source": [
    "data_model_built = pd.read_excel(\"C:\\\\Users\\\\qzhou9\\\\Growth model - clippings\\\\Data\\\\Noer clipping 2019-20_train.xlsx\")"
   ]
  },
  {
   "cell_type": "code",
   "execution_count": 18,
   "id": "e65163ba",
   "metadata": {},
   "outputs": [
    {
     "data": {
      "text/html": [
       "<div>\n",
       "<style scoped>\n",
       "    .dataframe tbody tr th:only-of-type {\n",
       "        vertical-align: middle;\n",
       "    }\n",
       "\n",
       "    .dataframe tbody tr th {\n",
       "        vertical-align: top;\n",
       "    }\n",
       "\n",
       "    .dataframe thead th {\n",
       "        text-align: right;\n",
       "    }\n",
       "</style>\n",
       "<table border=\"1\" class=\"dataframe\">\n",
       "  <thead>\n",
       "    <tr style=\"text-align: right;\">\n",
       "      <th></th>\n",
       "      <th>No</th>\n",
       "      <th>Rootzone1</th>\n",
       "      <th>Rootzone</th>\n",
       "      <th>Plot</th>\n",
       "      <th>trt</th>\n",
       "      <th>Direction</th>\n",
       "      <th>Days grow</th>\n",
       "      <th>PMN \\ntop 5cm soil(mg/kg)</th>\n",
       "      <th>PMN \\ntop 5cm soil (g/m2/wk)</th>\n",
       "      <th>N from PMN on top 5cm soil (g/m2/1wk)</th>\n",
       "      <th>...</th>\n",
       "      <th>RH avg (pre 5 day)</th>\n",
       "      <th>RHavg (7 days accu)</th>\n",
       "      <th>RH avg (pre 6 day)</th>\n",
       "      <th>Wind (kph)</th>\n",
       "      <th>Wind avg (pre 1 day)</th>\n",
       "      <th>Wind avg (pre 2 days)</th>\n",
       "      <th>Wind avg (pre 3 days)</th>\n",
       "      <th>Wind avg (pre 4 days)</th>\n",
       "      <th>Wind avg (pre 5 days)</th>\n",
       "      <th>Wind avg (pre 6 days)</th>\n",
       "    </tr>\n",
       "  </thead>\n",
       "  <tbody>\n",
       "    <tr>\n",
       "      <th>0</th>\n",
       "      <td>1</td>\n",
       "      <td>B17</td>\n",
       "      <td>17</td>\n",
       "      <td>1</td>\n",
       "      <td>PMN</td>\n",
       "      <td>NaN</td>\n",
       "      <td>2</td>\n",
       "      <td>NaN</td>\n",
       "      <td>NaN</td>\n",
       "      <td>NaN</td>\n",
       "      <td>...</td>\n",
       "      <td>54.5</td>\n",
       "      <td>45.571429</td>\n",
       "      <td>41.0</td>\n",
       "      <td>29.6056</td>\n",
       "      <td>3.8616</td>\n",
       "      <td>17.0554</td>\n",
       "      <td>24.4568</td>\n",
       "      <td>15.1246</td>\n",
       "      <td>27.1921</td>\n",
       "      <td>21.0779</td>\n",
       "    </tr>\n",
       "    <tr>\n",
       "      <th>1</th>\n",
       "      <td>2</td>\n",
       "      <td>B17</td>\n",
       "      <td>17</td>\n",
       "      <td>2</td>\n",
       "      <td>PMN</td>\n",
       "      <td>NaN</td>\n",
       "      <td>2</td>\n",
       "      <td>NaN</td>\n",
       "      <td>NaN</td>\n",
       "      <td>NaN</td>\n",
       "      <td>...</td>\n",
       "      <td>54.5</td>\n",
       "      <td>45.571429</td>\n",
       "      <td>41.0</td>\n",
       "      <td>29.6056</td>\n",
       "      <td>3.8616</td>\n",
       "      <td>17.0554</td>\n",
       "      <td>24.4568</td>\n",
       "      <td>15.1246</td>\n",
       "      <td>27.1921</td>\n",
       "      <td>21.0779</td>\n",
       "    </tr>\n",
       "    <tr>\n",
       "      <th>2</th>\n",
       "      <td>3</td>\n",
       "      <td>B17</td>\n",
       "      <td>17</td>\n",
       "      <td>3</td>\n",
       "      <td>PMN</td>\n",
       "      <td>NaN</td>\n",
       "      <td>2</td>\n",
       "      <td>NaN</td>\n",
       "      <td>NaN</td>\n",
       "      <td>NaN</td>\n",
       "      <td>...</td>\n",
       "      <td>54.5</td>\n",
       "      <td>45.571429</td>\n",
       "      <td>41.0</td>\n",
       "      <td>29.6056</td>\n",
       "      <td>3.8616</td>\n",
       "      <td>17.0554</td>\n",
       "      <td>24.4568</td>\n",
       "      <td>15.1246</td>\n",
       "      <td>27.1921</td>\n",
       "      <td>21.0779</td>\n",
       "    </tr>\n",
       "    <tr>\n",
       "      <th>3</th>\n",
       "      <td>4</td>\n",
       "      <td>B17</td>\n",
       "      <td>17</td>\n",
       "      <td>4</td>\n",
       "      <td>PMN</td>\n",
       "      <td>NaN</td>\n",
       "      <td>2</td>\n",
       "      <td>NaN</td>\n",
       "      <td>NaN</td>\n",
       "      <td>NaN</td>\n",
       "      <td>...</td>\n",
       "      <td>54.5</td>\n",
       "      <td>45.571429</td>\n",
       "      <td>41.0</td>\n",
       "      <td>29.6056</td>\n",
       "      <td>3.8616</td>\n",
       "      <td>17.0554</td>\n",
       "      <td>24.4568</td>\n",
       "      <td>15.1246</td>\n",
       "      <td>27.1921</td>\n",
       "      <td>21.0779</td>\n",
       "    </tr>\n",
       "    <tr>\n",
       "      <th>4</th>\n",
       "      <td>5</td>\n",
       "      <td>B17</td>\n",
       "      <td>17</td>\n",
       "      <td>5</td>\n",
       "      <td>PMN</td>\n",
       "      <td>NaN</td>\n",
       "      <td>2</td>\n",
       "      <td>NaN</td>\n",
       "      <td>NaN</td>\n",
       "      <td>NaN</td>\n",
       "      <td>...</td>\n",
       "      <td>54.5</td>\n",
       "      <td>45.571429</td>\n",
       "      <td>41.0</td>\n",
       "      <td>29.6056</td>\n",
       "      <td>3.8616</td>\n",
       "      <td>17.0554</td>\n",
       "      <td>24.4568</td>\n",
       "      <td>15.1246</td>\n",
       "      <td>27.1921</td>\n",
       "      <td>21.0779</td>\n",
       "    </tr>\n",
       "  </tbody>\n",
       "</table>\n",
       "<p>5 rows × 133 columns</p>\n",
       "</div>"
      ],
      "text/plain": [
       "   No Rootzone1  Rootzone  Plot  trt  Direction  Days grow  \\\n",
       "0   1       B17        17     1  PMN        NaN          2   \n",
       "1   2       B17        17     2  PMN        NaN          2   \n",
       "2   3       B17        17     3  PMN        NaN          2   \n",
       "3   4       B17        17     4  PMN        NaN          2   \n",
       "4   5       B17        17     5  PMN        NaN          2   \n",
       "\n",
       "   PMN \\ntop 5cm soil(mg/kg)  PMN \\ntop 5cm soil (g/m2/wk)  \\\n",
       "0                        NaN                           NaN   \n",
       "1                        NaN                           NaN   \n",
       "2                        NaN                           NaN   \n",
       "3                        NaN                           NaN   \n",
       "4                        NaN                           NaN   \n",
       "\n",
       "   N from PMN on top 5cm soil (g/m2/1wk)  ...  RH avg (pre 5 day)  \\\n",
       "0                                    NaN  ...                54.5   \n",
       "1                                    NaN  ...                54.5   \n",
       "2                                    NaN  ...                54.5   \n",
       "3                                    NaN  ...                54.5   \n",
       "4                                    NaN  ...                54.5   \n",
       "\n",
       "   RHavg (7 days accu)  RH avg (pre 6 day) Wind (kph)  Wind avg (pre 1 day)  \\\n",
       "0            45.571429                41.0    29.6056                3.8616   \n",
       "1            45.571429                41.0    29.6056                3.8616   \n",
       "2            45.571429                41.0    29.6056                3.8616   \n",
       "3            45.571429                41.0    29.6056                3.8616   \n",
       "4            45.571429                41.0    29.6056                3.8616   \n",
       "\n",
       "   Wind avg (pre 2 days)  Wind avg (pre 3 days)  Wind avg (pre 4 days)  \\\n",
       "0                17.0554                24.4568                15.1246   \n",
       "1                17.0554                24.4568                15.1246   \n",
       "2                17.0554                24.4568                15.1246   \n",
       "3                17.0554                24.4568                15.1246   \n",
       "4                17.0554                24.4568                15.1246   \n",
       "\n",
       "   Wind avg (pre 5 days)  Wind avg (pre 6 days)  \n",
       "0                27.1921                21.0779  \n",
       "1                27.1921                21.0779  \n",
       "2                27.1921                21.0779  \n",
       "3                27.1921                21.0779  \n",
       "4                27.1921                21.0779  \n",
       "\n",
       "[5 rows x 133 columns]"
      ]
     },
     "execution_count": 18,
     "metadata": {},
     "output_type": "execute_result"
    }
   ],
   "source": [
    "data_model_built.head()"
   ]
  },
  {
   "cell_type": "code",
   "execution_count": 19,
   "id": "dfabecad",
   "metadata": {},
   "outputs": [],
   "source": [
    "x1=data_model_built[['mosit avg (3 days)','Rootzone','N rate (kg/ha/2wks)','Days grow','moist',\n",
    "        'NDRE','Traffic (rounds/week)','Tmax (°C)','Tmax (pre 1 day)',\n",
    "        'Tmax (pre 2 days)', 'Tmax (pre 3 days)', 'Tmax (pre 4 days)',\n",
    "        'Tmax (pre 5 days)', 'Tmax (pre 6 days)','Tmin (°C)','Tmin (pre 1 day)',\n",
    "        'Tmin (pre 2 days)', 'Tmin (pre 3 days)', 'Tmin (pre 4 days)',\n",
    "        'Tmin (pre 5 days)', 'Tmin (pre 6 days)','Tavg (°C)','Tavg (pre 1 day)',\n",
    "        'Tavg (pre 2 day)', 'Tavg (pre 3 day)', 'Tavg (pre 4 day)', 'Tavg (pre 5 day)',\n",
    "        'Tavg (pre 6 day)', 'Tavg (2 days accu)','Tavg (3 days accu)', 'Tavg (4 days accu)',\n",
    "        'Tavg (5 days accu)','Tavg (6 days accu)','Tavg (7 days accu)','Precip/day (cm)',\n",
    "        'precip (2 days accu)','precip (3 days accu)', 'precip (4 days accu)','precip (5 days accu)',\n",
    "        'precip (6 days accu)', 'precip (7 days accu)','ET (cm)','ET (2 days accu)',\n",
    "        'ET (3 days accu)', 'ET (4 days accu)', 'ET (5 days accu)',\n",
    "        'ET (6 days accu)', 'ET (7 days accu)', 'precip-ET','precip-ET(2 days accu)',\n",
    "        'precip-ET (3 days accu)', 'precip-ET (4 days accu)', 'precip-ET (5 days accu)',\n",
    "        'precip-ET (6 days accu)', 'precip-ET (7 days accu)',\n",
    "        'Wind (kph)','Wind avg (pre 1 day)','Wind avg (pre 2 days)',\n",
    "        'Wind avg (pre 3 days)', 'Wind avg (pre 4 days)','Wind avg (pre 5 days)','Wind avg (pre 6 days)',\n",
    "        'RH max','RH max (pre 1 day)','RH max (pre 2 days)', 'RH max (pre 3 days)',\n",
    "        'RH max (pre 4 days)', 'RH max (pre 5 days)','RH max (pre 6 days)', 'RH min',\n",
    "        'RH min (pre 1 day)','RH min (pre 2 days)','RH min (pre 3 days)', 'RH min (pre 4 days)',\n",
    "        'RH min (pre 5 days)', 'RH min (pre 6 days)','RH avg','RH avg (pre 1 day)','RH avg (pre 2 day)',\n",
    "        'RH avg (pre 3 day)','RH avg (pre 4 day)','RH avg (pre 5 day)','RH avg (pre 6 day)','RHavg (2 days accu)',\n",
    "        'RHavg (3 days accu)','RHavg (4 days accu)','RHavg (5 days accu)',\n",
    "        'RHavg (6 days accu)','RHavg (7 days accu)']]\n"
   ]
  },
  {
   "cell_type": "code",
   "execution_count": 20,
   "id": "cd332690",
   "metadata": {},
   "outputs": [
    {
     "name": "stdout",
     "output_type": "stream",
     "text": [
      "1897\n"
     ]
    }
   ],
   "source": [
    "y1=data_model_built['Clipping (g/m2/day)']\n",
    "print(y.size)"
   ]
  },
  {
   "cell_type": "code",
   "execution_count": 21,
   "id": "0da00525",
   "metadata": {},
   "outputs": [],
   "source": [
    "feature_names_model_built = ['mosit avg (3 days)','Rootzone','N rate (kg/ha/2wks)','Days grow','moist',\n",
    "        'NDRE','Traffic (rounds/week)','Tmax (°C)','Tmax (pre 1 day)',\n",
    "        'Tmax (pre 2 days)', 'Tmax (pre 3 days)', 'Tmax (pre 4 days)',\n",
    "        'Tmax (pre 5 days)', 'Tmax (pre 6 days)','Tmin (°C)','Tmin (pre 1 day)',\n",
    "        'Tmin (pre 2 days)', 'Tmin (pre 3 days)', 'Tmin (pre 4 days)',\n",
    "        'Tmin (pre 5 days)', 'Tmin (pre 6 days)','Tavg (°C)','Tavg (pre 1 day)',\n",
    "        'Tavg (pre 2 day)', 'Tavg (pre 3 day)', 'Tavg (pre 4 day)', 'Tavg (pre 5 day)',\n",
    "        'Tavg (pre 6 day)', 'Tavg (2 days accu)','Tavg (3 days accu)', 'Tavg (4 days accu)',\n",
    "        'Tavg (5 days accu)','Tavg (6 days accu)','Tavg (7 days accu)','Precip/day (cm)',\n",
    "        'precip (2 days accu)','precip (3 days accu)', 'precip (4 days accu)','precip (5 days accu)',\n",
    "        'precip (6 days accu)', 'precip (7 days accu)','ET (cm)','ET (2 days accu)',\n",
    "        'ET (3 days accu)', 'ET (4 days accu)', 'ET (5 days accu)',\n",
    "        'ET (6 days accu)', 'ET (7 days accu)', 'precip-ET','precip-ET(2 days accu)',\n",
    "        'precip-ET (3 days accu)', 'precip-ET (4 days accu)', 'precip-ET (5 days accu)',\n",
    "        'precip-ET (6 days accu)', 'precip-ET (7 days accu)',\n",
    "        'Wind (kph)','Wind avg (pre 1 day)','Wind avg (pre 2 days)',\n",
    "        'Wind avg (pre 3 days)', 'Wind avg (pre 4 days)','Wind avg (pre 5 days)','Wind avg (pre 6 days)',\n",
    "        'RH max','RH max (pre 1 day)','RH max (pre 2 days)', 'RH max (pre 3 days)',\n",
    "        'RH max (pre 4 days)', 'RH max (pre 5 days)','RH max (pre 6 days)', 'RH min',\n",
    "        'RH min (pre 1 day)','RH min (pre 2 days)','RH min (pre 3 days)', 'RH min (pre 4 days)',\n",
    "        'RH min (pre 5 days)', 'RH min (pre 6 days)','RH avg','RH avg (pre 1 day)','RH avg (pre 2 day)',\n",
    "        'RH avg (pre 3 day)','RH avg (pre 4 day)','RH avg (pre 5 day)','RH avg (pre 6 day)','RHavg (2 days accu)',\n",
    "        'RHavg (3 days accu)','RHavg (4 days accu)','RHavg (5 days accu)',\n",
    "        'RHavg (6 days accu)','RHavg (7 days accu)']"
   ]
  },
  {
   "cell_type": "code",
   "execution_count": 22,
   "id": "23dd06f0",
   "metadata": {},
   "outputs": [
    {
     "name": "stdout",
     "output_type": "stream",
     "text": [
      "continuous\n",
      "multiclass\n",
      "multiclass\n"
     ]
    }
   ],
   "source": [
    "#training and testing= 75%:25%\n",
    "x_train1, x_test1, y_train1, y_test1 = train_test_split(x1, y1, test_size=0.25)\n",
    "lab_enc = preprocessing.LabelEncoder()\n",
    "training_encoded = lab_enc.fit_transform(y_train1)\n",
    "print(utils.multiclass.type_of_target(y_train1)) \n",
    "print(utils.multiclass.type_of_target(y_train1.astype('int')))\n",
    "print(utils.multiclass.type_of_target(training_encoded))\n",
    "#clf=RandomForestClassifier(n_estimators=100)\n",
    "#clf.fit(x_train,training_encoded)\n",
    "#print(\"RandomForestClassifier\")\n",
    "#y_pred=clf.predict(x_test)\n",
    "model = RandomForestRegressor(max_depth = 100, n_estimators = 100, random_state=1)\n",
    "model.fit(x_train1,y_train1)\n",
    "y_pred1 = model.predict(x_test1)"
   ]
  },
  {
   "cell_type": "markdown",
   "id": "c4dceb57",
   "metadata": {},
   "source": [
    "## Plot the figure show the important variables that affect the clipping yield on your site"
   ]
  },
  {
   "cell_type": "code",
   "execution_count": 23,
   "id": "88e0745f",
   "metadata": {},
   "outputs": [
    {
     "data": {
      "image/png": "[encoded data removed]",
      "text/plain": [
       "<Figure size 1200x1200 with 1 Axes>"
      ]
     },
     "metadata": {
      "needs_background": "light"
     },
     "output_type": "display_data"
    },
    {
     "data": {
      "text/plain": [
       "['Model 2019-2020.joblib']"
      ]
     },
     "execution_count": 23,
     "metadata": {},
     "output_type": "execute_result"
    }
   ],
   "source": [
    "figure(figsize=(2,2), dpi=600)\n",
    "\n",
    "feature_imp = pd.Series(model.feature_importances_,index=feature_names).sort_values(ascending=False)\n",
    "feature_imp\n",
    "sns.barplot(x=feature_imp[:20], y=feature_imp.index[:20])# change the number in the braket [:20] to display the x number of factors\n",
    "\n",
    "ax = plt.gca()\n",
    "ax.set_xlabel('Feature Importance Score', fontsize=4)\n",
    "ax.set_ylabel('Features', fontsize=4)\n",
    "ax.set_title(\"Visualizing Important Features\", fontsize=4)\n",
    "ax.tick_params(axis='both', labelsize=4)\n",
    "\n",
    "plt.savefig('Features importance.png')\n",
    "plt.show()\n",
    "\n",
    "dump(model,'Model 2019-2020.joblib')"
   ]
  },
  {
   "cell_type": "markdown",
   "id": "c93e8c89",
   "metadata": {},
   "source": [
    "**The Following parameters&figures are showing the how good the model is"
   ]
  },
  {
   "cell_type": "code",
   "execution_count": 24,
   "id": "5f1560c1",
   "metadata": {
    "scrolled": false
   },
   "outputs": [
    {
     "name": "stdout",
     "output_type": "stream",
     "text": [
      "RMSE 0.23909224523179937\n"
     ]
    }
   ],
   "source": [
    "print(\"RMSE\", np.sqrt(metrics.mean_squared_error(y_test1, y_pred1)))"
   ]
  },
  {
   "cell_type": "code",
   "execution_count": 25,
   "id": "c4de56c2",
   "metadata": {},
   "outputs": [
    {
     "name": "stdout",
     "output_type": "stream",
     "text": [
      "R squred: 0.8208487191113576\n"
     ]
    }
   ],
   "source": [
    "print(\"R squred:\", metrics.r2_score(y_test1, y_pred1))"
   ]
  },
  {
   "cell_type": "markdown",
   "id": "c02fe712",
   "metadata": {},
   "source": [
    "## Plot figure show how well random forest model work by compared with ground truth"
   ]
  },
  {
   "cell_type": "code",
   "execution_count": 26,
   "id": "7e31ce11",
   "metadata": {},
   "outputs": [
    {
     "name": "stderr",
     "output_type": "stream",
     "text": [
      "No artists with labels found to put in legend.  Note that artists whose label start with an underscore are ignored when legend() is called with no argument.\n"
     ]
    },
    {
     "data": {
      "image/png": "[encoded data removed]",
      "text/plain": [
       "<Figure size 432x288 with 1 Axes>"
      ]
     },
     "metadata": {
      "needs_background": "light"
     },
     "output_type": "display_data"
    }
   ],
   "source": [
    "y_pred1 = model.predict(x_test1)\n",
    "plt.scatter(y_pred1, y_test1, color = 'yellowgreen')\n",
    "plt.savefig('Model_train_scatterplot.png', dpi=1200)\n",
    "plt.xlabel('Estimated clipping (g/m2/d)', fontsize=16)\n",
    "plt.ylabel('Field observed clipping (g/m2/d)', fontsize=16)\n",
    "plt.axline([0, 0], [1, 1], color='black')\n",
    "plt.annotate('R2: ' + str(round(metrics.r2_score(y_test1, y_pred1),4)), (0, 3), fontsize=16)\n",
    "plt.xticks(fontsize=14)\n",
    "plt.yticks(fontsize=14)\n",
    "plt.legend(fontsize=14)\n",
    "plt.show()"
   ]
  },
  {
   "cell_type": "markdown",
   "id": "4f729262",
   "metadata": {},
   "source": [
    "# Random Forest Model Evaluation\n",
    "After the model was built, evaluate the model accuracy on a different set of data. In this case, the data was also collected in 2019 and 2020, but from different dates. So I have actually data from these data. The purpose of this section is to validation whether the model actually work, whether has bias."
   ]
  },
  {
   "cell_type": "code",
   "execution_count": 27,
   "id": "d92218c8",
   "metadata": {},
   "outputs": [],
   "source": [
    "import numpy as np\n",
    "import pandas as pd\n",
    "from sklearn.model_selection import train_test_split\n",
    "from sklearn.ensemble import RandomForestClassifier\n",
    "from sklearn import preprocessing\n",
    "from sklearn import utils\n",
    "from sklearn import metrics\n",
    "import matplotlib.pyplot as plt\n",
    "import seaborn as sns\n",
    "from sklearn.model_selection import train_test_split\n",
    "from sklearn.ensemble import RandomForestRegressor \n",
    "from joblib import dump, load\n",
    "from pandas import DataFrame\n",
    "from sklearn.linear_model import LinearRegression\n",
    "from sklearn.metrics import r2_score"
   ]
  },
  {
   "cell_type": "code",
   "execution_count": 28,
   "id": "f81d454d",
   "metadata": {},
   "outputs": [],
   "source": [
    "trained_model = load('Model 2019-2020.joblib')"
   ]
  },
  {
   "cell_type": "code",
   "execution_count": 29,
   "id": "449b40a0",
   "metadata": {},
   "outputs": [],
   "source": [
    "data_eval = pd.read_excel(\"C:\\\\Users\\\\qzhou9\\\\Growth model - clippings\\\\Data\\\\Noer clipping 2019-20_test.xlsx\")"
   ]
  },
  {
   "cell_type": "code",
   "execution_count": 30,
   "id": "c41b6c47",
   "metadata": {},
   "outputs": [],
   "source": [
    "x2=data_eval[['mosit avg (3 days)','Rootzone','N rate (kg/ha/2wks)','Days grow','moist',\n",
    "        'NDRE','Traffic (rounds/week)','Tmax (°C)','Tmax (pre 1 day)',\n",
    "        'Tmax (pre 2 days)', 'Tmax (pre 3 days)', 'Tmax (pre 4 days)',\n",
    "        'Tmax (pre 5 days)', 'Tmax (pre 6 days)','Tmin (°C)','Tmin (pre 1 day)',\n",
    "        'Tmin (pre 2 days)', 'Tmin (pre 3 days)', 'Tmin (pre 4 days)',\n",
    "        'Tmin (pre 5 days)', 'Tmin (pre 6 days)','Tavg (°C)','Tavg (pre 1 day)',\n",
    "        'Tavg (pre 2 day)', 'Tavg (pre 3 day)', 'Tavg (pre 4 day)', 'Tavg (pre 5 day)',\n",
    "        'Tavg (pre 6 day)', 'Tavg (2 days accu)','Tavg (3 days accu)', 'Tavg (4 days accu)',\n",
    "        'Tavg (5 days accu)','Tavg (6 days accu)','Tavg (7 days accu)','Precip/day (cm)',\n",
    "        'precip (2 days accu)','precip (3 days accu)', 'precip (4 days accu)','precip (5 days accu)',\n",
    "        'precip (6 days accu)', 'precip (7 days accu)','ET (cm)','ET (2 days accu)',\n",
    "        'ET (3 days accu)', 'ET (4 days accu)', 'ET (5 days accu)',\n",
    "        'ET (6 days accu)', 'ET (7 days accu)', 'precip-ET','precip-ET(2 days accu)',\n",
    "        'precip-ET (3 days accu)', 'precip-ET (4 days accu)', 'precip-ET (5 days accu)',\n",
    "        'precip-ET (6 days accu)', 'precip-ET (7 days accu)',\n",
    "        'Wind (kph)','Wind avg (pre 1 day)','Wind avg (pre 2 days)',\n",
    "        'Wind avg (pre 3 days)', 'Wind avg (pre 4 days)','Wind avg (pre 5 days)','Wind avg (pre 6 days)',\n",
    "        'RH max','RH max (pre 1 day)','RH max (pre 2 days)', 'RH max (pre 3 days)',\n",
    "        'RH max (pre 4 days)', 'RH max (pre 5 days)','RH max (pre 6 days)', 'RH min',\n",
    "        'RH min (pre 1 day)','RH min (pre 2 days)','RH min (pre 3 days)', 'RH min (pre 4 days)',\n",
    "        'RH min (pre 5 days)', 'RH min (pre 6 days)','RH avg','RH avg (pre 1 day)','RH avg (pre 2 day)',\n",
    "        'RH avg (pre 3 day)','RH avg (pre 4 day)','RH avg (pre 5 day)','RH avg (pre 6 day)','RHavg (2 days accu)',\n",
    "        'RHavg (3 days accu)','RHavg (4 days accu)','RHavg (5 days accu)',\n",
    "        'RHavg (6 days accu)','RHavg (7 days accu)']]"
   ]
  },
  {
   "cell_type": "code",
   "execution_count": 31,
   "id": "e879bea2",
   "metadata": {},
   "outputs": [],
   "source": [
    "y2=data_eval['Clipping (g/m2/day)']"
   ]
  },
  {
   "cell_type": "code",
   "execution_count": 32,
   "id": "baefb22f",
   "metadata": {},
   "outputs": [],
   "source": [
    "feature_names_eval = ['mosit avg (3 days)','Rootzone','N rate (kg/ha/2wks)','Days grow','moist',\n",
    "        'NDRE','Traffic (rounds/week)','Tmax (°C)','Tmax (pre 1 day)',\n",
    "        'Tmax (pre 2 days)', 'Tmax (pre 3 days)', 'Tmax (pre 4 days)',\n",
    "        'Tmax (pre 5 days)', 'Tmax (pre 6 days)','Tmin (°C)','Tmin (pre 1 day)',\n",
    "        'Tmin (pre 2 days)', 'Tmin (pre 3 days)', 'Tmin (pre 4 days)',\n",
    "        'Tmin (pre 5 days)', 'Tmin (pre 6 days)','Tavg (°C)','Tavg (pre 1 day)',\n",
    "        'Tavg (pre 2 day)', 'Tavg (pre 3 day)', 'Tavg (pre 4 day)', 'Tavg (pre 5 day)',\n",
    "        'Tavg (pre 6 day)', 'Tavg (2 days accu)','Tavg (3 days accu)', 'Tavg (4 days accu)',\n",
    "        'Tavg (5 days accu)','Tavg (6 days accu)','Tavg (7 days accu)','Precip/day (cm)',\n",
    "        'precip (2 days accu)','precip (3 days accu)', 'precip (4 days accu)','precip (5 days accu)',\n",
    "        'precip (6 days accu)', 'precip (7 days accu)','ET (cm)','ET (2 days accu)',\n",
    "        'ET (3 days accu)', 'ET (4 days accu)', 'ET (5 days accu)',\n",
    "        'ET (6 days accu)', 'ET (7 days accu)', 'precip-ET','precip-ET(2 days accu)',\n",
    "        'precip-ET (3 days accu)', 'precip-ET (4 days accu)', 'precip-ET (5 days accu)',\n",
    "        'precip-ET (6 days accu)', 'precip-ET (7 days accu)',\n",
    "        'Wind (kph)','Wind avg (pre 1 day)','Wind avg (pre 2 days)',\n",
    "        'Wind avg (pre 3 days)', 'Wind avg (pre 4 days)','Wind avg (pre 5 days)','Wind avg (pre 6 days)',\n",
    "        'RH max','RH max (pre 1 day)','RH max (pre 2 days)', 'RH max (pre 3 days)',\n",
    "        'RH max (pre 4 days)', 'RH max (pre 5 days)','RH max (pre 6 days)', 'RH min',\n",
    "        'RH min (pre 1 day)','RH min (pre 2 days)','RH min (pre 3 days)', 'RH min (pre 4 days)',\n",
    "        'RH min (pre 5 days)', 'RH min (pre 6 days)','RH avg','RH avg (pre 1 day)','RH avg (pre 2 day)',\n",
    "        'RH avg (pre 3 day)','RH avg (pre 4 day)','RH avg (pre 5 day)','RH avg (pre 6 day)','RHavg (2 days accu)',\n",
    "        'RHavg (3 days accu)','RHavg (4 days accu)','RHavg (5 days accu)',\n",
    "        'RHavg (6 days accu)','RHavg (7 days accu)']"
   ]
  },
  {
   "cell_type": "code",
   "execution_count": 33,
   "id": "af4a8efe",
   "metadata": {
    "scrolled": true
   },
   "outputs": [],
   "source": [
    "y_pred2 = trained_model.predict(x2)\n",
    "narr=np.array(y_pred2)\n",
    "df = DataFrame({'Clipping_pred (g/m2/day)':narr})\n",
    "df\n",
    "df.to_excel('Model 2019-2020_Evaluation.xlsx', sheet_name='sheet1', index=False)"
   ]
  },
  {
   "cell_type": "code",
   "execution_count": 37,
   "id": "cb628d39",
   "metadata": {},
   "outputs": [],
   "source": [
    "# Combine the clipping and clipping_pred into a new dataframe\n",
    "df1 = pd.read_excel('Model 2019-2020_Evaluation.xlsx')\n",
    "col1 = df1['Clipping_pred (g/m2/day)']\n",
    "\n",
    "df2 = pd.read_excel('C:\\\\Users\\\\qzhou9\\\\Growth model - clippings\\\\Data\\\\Noer clipping 2019-20_test.xlsx')\n",
    "col2 = df2['Clipping (g/m2/day)']\n",
    "\n",
    "df3 = pd.DataFrame({'Clipping (g/m2/day)': col2, 'Clipping_pred (g/m2/day)': col1})\n",
    "df3.to_excel('Training_testing_evaluation.xlsx', index=False)"
   ]
  },
  {
   "cell_type": "markdown",
   "id": "d5fb0d95",
   "metadata": {},
   "source": [
    "## Plot figure show how well random forest model work on your site's clipping"
   ]
  },
  {
   "cell_type": "code",
   "execution_count": 38,
   "id": "b4821630",
   "metadata": {},
   "outputs": [
    {
     "name": "stderr",
     "output_type": "stream",
     "text": [
      "No artists with labels found to put in legend.  Note that artists whose label start with an underscore are ignored when legend() is called with no argument.\n"
     ]
    },
    {
     "data": {
      "image/png": "[encoded data removed]",
      "text/plain": [
       "<Figure size 576x432 with 1 Axes>"
      ]
     },
     "metadata": {
      "needs_background": "light"
     },
     "output_type": "display_data"
    }
   ],
   "source": [
    "# plot the relationship figure between clipping and clipping_pred\n",
    "\n",
    "df_comparison = pd.read_excel('Training_testing_evaluation.xlsx')\n",
    "\n",
    "fig, ax = plt.subplots(figsize=(8,6))\n",
    "\n",
    "x_comp = df_comparison['Clipping (g/m2/day)'].values.reshape(-1, 1)\n",
    "y_comp = df_comparison['Clipping_pred (g/m2/day)'].values.reshape(-1, 1)\n",
    "model_comp = LinearRegression().fit(x_comp, y_comp)\n",
    "y_comp_pred = model_comp.predict(x_comp)\n",
    "plt.scatter(df_comparison['Clipping (g/m2/day)'], df_comparison['Clipping_pred (g/m2/day)'], color = 'pink')\n",
    "plt.plot(x_comp, y_comp_pred, color='black', linestyle='--')\n",
    "r2 = model_comp.score(x_comp, y_comp)\n",
    "plt.annotate('r2: ' + str(round(metrics.r2_score(y_comp, y_comp_pred),4)), (0, 1.8), fontsize=14)\n",
    "#plt.text(df_comparison['Clipping (g/m2/day)'].max(), df_comparison['Clipping_pred (g/m2/day)'].min(), f\"r2 = {r2:.2f}\", fontsize=14)\n",
    "\n",
    "\n",
    "plt.xlabel('Clipping (g/m2/day)', fontsize=14)\n",
    "plt.ylabel('Clipping_pred (g/m2/day)', fontsize=14)\n",
    "\n",
    "plt.xticks(fontsize=14)\n",
    "plt.yticks(fontsize=14)\n",
    "plt.legend(fontsize=14)\n",
    "\n",
    "# Set the title\n",
    "#ax.set_title('Scatter Plot of Clipping_pred vs Clipping')\n",
    "plt.savefig('Model_evaluation_scatterplot.png', dpi=1200)\n",
    "plt.show()"
   ]
  },
  {
   "cell_type": "code",
   "execution_count": 39,
   "id": "0e7bde61",
   "metadata": {
    "scrolled": true
   },
   "outputs": [
    {
     "name": "stdout",
     "output_type": "stream",
     "text": [
      "RMSE 0.5411315235091618\n"
     ]
    }
   ],
   "source": [
    "print(\"RMSE\", np.sqrt(metrics.mean_squared_error(y2, y_pred2)))"
   ]
  },
  {
   "cell_type": "code",
   "execution_count": 40,
   "id": "9367eae1",
   "metadata": {
    "scrolled": true
   },
   "outputs": [],
   "source": [
    "#print(\"R squred:\", metrics.r2_score(y, y_pred))"
   ]
  },
  {
   "cell_type": "markdown",
   "id": "af14126c",
   "metadata": {},
   "source": [
    "# Make Growth Rate Prediction on Future Clippings\n",
    "Once I am sure the model works fine and I am satified with the model I just trained, I will  I will save the \".joblib\" file I just saved and use it for predicting future data"
   ]
  },
  {
   "cell_type": "code",
   "execution_count": 41,
   "id": "26c860fe",
   "metadata": {},
   "outputs": [],
   "source": [
    "import numpy as np\n",
    "import pandas as pd\n",
    "from sklearn import metrics\n",
    "from joblib import dump, load\n",
    "from pandas import DataFrame"
   ]
  },
  {
   "cell_type": "code",
   "execution_count": 42,
   "id": "5e4b259c",
   "metadata": {},
   "outputs": [],
   "source": [
    "trained_model = load('Model 2019-2020.joblib')"
   ]
  },
  {
   "cell_type": "code",
   "execution_count": 44,
   "id": "9e217175",
   "metadata": {
    "scrolled": true
   },
   "outputs": [],
   "source": [
    "data_pred = pd.read_excel(\"C:\\\\Users\\\\qzhou9\\\\Growth model - clippings\\\\Data\\\\Noer clipping 2021.xlsx\")"
   ]
  },
  {
   "cell_type": "code",
   "execution_count": 45,
   "id": "c4cc3ba0",
   "metadata": {},
   "outputs": [],
   "source": [
    "x_mpred=data_pred[['mosit avg (3 days)','Rootzone','N rate (kg/ha/2wks)','Days grow','moist',\n",
    "        'NDRE','Traffic (rounds/week)','Tmax (°C)','Tmax (pre 1 day)',\n",
    "        'Tmax (pre 2 days)', 'Tmax (pre 3 days)', 'Tmax (pre 4 days)',\n",
    "        'Tmax (pre 5 days)', 'Tmax (pre 6 days)','Tmin (°C)','Tmin (pre 1 day)',\n",
    "        'Tmin (pre 2 days)', 'Tmin (pre 3 days)', 'Tmin (pre 4 days)',\n",
    "        'Tmin (pre 5 days)', 'Tmin (pre 6 days)','Tavg (°C)','Tavg (pre 1 day)',\n",
    "        'Tavg (pre 2 day)', 'Tavg (pre 3 day)', 'Tavg (pre 4 day)', 'Tavg (pre 5 day)',\n",
    "        'Tavg (pre 6 day)', 'Tavg (2 days accu)','Tavg (3 days accu)', 'Tavg (4 days accu)',\n",
    "        'Tavg (5 days accu)','Tavg (6 days accu)','Tavg (7 days accu)','Precip/day (cm)',\n",
    "        'precip (2 days accu)','precip (3 days accu)', 'precip (4 days accu)','precip (5 days accu)',\n",
    "        'precip (6 days accu)', 'precip (7 days accu)','ET (cm)','ET (2 days accu)',\n",
    "        'ET (3 days accu)', 'ET (4 days accu)', 'ET (5 days accu)',\n",
    "        'ET (6 days accu)', 'ET (7 days accu)', 'precip-ET','precip-ET(2 days accu)',\n",
    "        'precip-ET (3 days accu)', 'precip-ET (4 days accu)', 'precip-ET (5 days accu)',\n",
    "        'precip-ET (6 days accu)', 'precip-ET (7 days accu)',\n",
    "        'Wind (kph)','Wind avg (pre 1 day)','Wind avg (pre 2 days)',\n",
    "        'Wind avg (pre 3 days)', 'Wind avg (pre 4 days)','Wind avg (pre 5 days)','Wind avg (pre 6 days)',\n",
    "        'RH max','RH max (pre 1 day)','RH max (pre 2 days)', 'RH max (pre 3 days)',\n",
    "        'RH max (pre 4 days)', 'RH max (pre 5 days)','RH max (pre 6 days)', 'RH min',\n",
    "        'RH min (pre 1 day)','RH min (pre 2 days)','RH min (pre 3 days)', 'RH min (pre 4 days)',\n",
    "        'RH min (pre 5 days)', 'RH min (pre 6 days)','RH avg','RH avg (pre 1 day)','RH avg (pre 2 day)',\n",
    "        'RH avg (pre 3 day)','RH avg (pre 4 day)','RH avg (pre 5 day)','RH avg (pre 6 day)','RHavg (2 days accu)',\n",
    "        'RHavg (3 days accu)','RHavg (4 days accu)','RHavg (5 days accu)',\n",
    "        'RHavg (6 days accu)','RHavg (7 days accu)']]"
   ]
  },
  {
   "cell_type": "code",
   "execution_count": 47,
   "id": "811f2a12",
   "metadata": {},
   "outputs": [
    {
     "name": "stdout",
     "output_type": "stream",
     "text": [
      "     Clipping_pred (g/m2/day)       date  Plot\n",
      "0                    0.971930 2021-05-10     1\n",
      "1                    0.933403 2021-05-10     6\n",
      "2                    1.196782 2021-05-10    11\n",
      "3                    1.084644 2021-05-10    13\n",
      "4                    1.163881 2021-05-10     1\n",
      "5                    1.200220 2021-05-10     7\n",
      "6                    1.012694 2021-05-10    10\n",
      "7                    0.948474 2021-05-10    14\n",
      "8                    1.112783 2021-05-17     1\n",
      "9                    0.888372 2021-05-17     6\n",
      "10                   1.146549 2021-05-17    11\n",
      "11                   0.974227 2021-05-17    13\n",
      "12                   0.923033 2021-05-17     1\n",
      "13                   1.007293 2021-05-17     7\n",
      "14                   1.148612 2021-05-17    10\n",
      "15                   1.160898 2021-05-17    14\n",
      "16                   0.920425 2021-05-20     1\n",
      "17                   0.755859 2021-05-20     6\n",
      "18                   0.583197 2021-05-20    11\n",
      "19                   1.025703 2021-05-20    13\n",
      "20                   0.572245 2021-05-20     1\n",
      "21                   0.657253 2021-05-20     7\n",
      "22                   0.708525 2021-05-20    10\n",
      "23                   0.541471 2021-05-20    14\n",
      "24                   0.937029 2021-05-24     1\n",
      "25                   1.005257 2021-05-24     6\n",
      "26                   0.599392 2021-05-24    11\n",
      "27                   0.700635 2021-05-24    13\n",
      "28                   0.611578 2021-05-24     1\n",
      "29                   1.062922 2021-05-24     7\n",
      "30                   0.756146 2021-05-24    10\n",
      "31                   0.952948 2021-05-24    14\n",
      "32                   0.654750 2021-05-26     1\n",
      "33                   0.556209 2021-05-26     6\n",
      "34                   1.621311 2021-05-26    11\n",
      "35                   1.253064 2021-05-26    13\n",
      "36                   0.999684 2021-05-26     1\n",
      "37                   1.661166 2021-05-26     7\n",
      "38                   1.018804 2021-05-26    10\n",
      "39                   1.164364 2021-05-26    14\n",
      "40                   1.217104 2021-06-02     1\n",
      "41                   0.963805 2021-06-02     6\n",
      "42                   1.562323 2021-06-02    11\n",
      "43                   1.648978 2021-06-02    13\n",
      "44                   0.928359 2021-06-02     1\n",
      "45                   1.154132 2021-06-02     7\n",
      "46                   0.918532 2021-06-02    10\n",
      "47                   1.639094 2021-06-02    14\n",
      "48                   1.197980 2021-06-04     1\n",
      "49                   1.632087 2021-06-04     6\n",
      "50                   1.093294 2021-06-04    11\n",
      "51                   0.854284 2021-06-04    13\n",
      "52                   0.637260 2021-06-04     1\n",
      "53                   1.291135 2021-06-04     7\n",
      "54                   0.731018 2021-06-04    10\n",
      "55                   0.665450 2021-06-04    14\n",
      "56                   1.116987 2021-06-07     1\n",
      "57                   0.774976 2021-06-07     6\n",
      "58                   0.763625 2021-06-07    11\n",
      "59                   0.615755 2021-06-07    13\n",
      "60                   1.096434 2021-06-07     1\n",
      "61                   0.768979 2021-06-07     7\n",
      "62                   0.618519 2021-06-07    10\n",
      "63                   1.025099 2021-06-07    14\n",
      "64                   0.621572 2021-06-09     1\n",
      "65                   0.733107 2021-06-09     6\n",
      "66                   1.305119 2021-06-09    11\n",
      "67                   0.782429 2021-06-09    13\n",
      "68                   1.084549 2021-06-09     1\n",
      "69                   0.615197 2021-06-09     7\n",
      "70                   1.150990 2021-06-09    10\n",
      "71                   1.887413 2021-06-09    14\n",
      "72                   1.366088 2021-06-11     1\n",
      "73                   1.194741 2021-06-11     6\n",
      "74                   1.977133 2021-06-11    11\n",
      "75                   1.405087 2021-06-11    13\n",
      "76                   1.347364 2021-06-11     1\n",
      "77                   1.221012 2021-06-11     7\n",
      "78                   1.951937 2021-06-11    10\n",
      "79                   1.368484 2021-06-11    14\n",
      "80                   1.110833 2021-06-14     1\n",
      "81                   1.602348 2021-06-14     6\n",
      "82                   1.071646 2021-06-14    11\n",
      "83                   1.315259 2021-06-14    13\n",
      "84                   1.904012 2021-06-14     1\n",
      "85                   1.426848 2021-06-14     7\n",
      "86                   1.807838 2021-06-14    10\n",
      "87                   1.180869 2021-06-14    14\n",
      "88                   0.708142 2021-06-16     1\n",
      "89                   0.976903 2021-06-16     6\n",
      "90                   0.918165 2021-06-16    11\n",
      "91                   0.722209 2021-06-16    13\n",
      "92                   0.607261 2021-06-16     1\n",
      "93                   0.967938 2021-06-16     7\n",
      "94                   0.621299 2021-06-16    10\n",
      "95                   0.991755 2021-06-16    14\n",
      "96                   0.706216 2021-06-18     1\n",
      "97                   0.879070 2021-06-18     6\n",
      "98                   0.763859 2021-06-18    11\n",
      "99                   1.041839 2021-06-18    13\n",
      "100                  0.927663 2021-06-18     1\n",
      "101                  0.628137 2021-06-18     7\n",
      "102                  0.680773 2021-06-18    10\n",
      "103                  0.590473 2021-06-18    14\n",
      "104                  0.952478 2021-06-21     1\n",
      "105                  1.045810 2021-06-21     6\n",
      "106                  1.034791 2021-06-21    11\n",
      "107                  0.943620 2021-06-21    13\n",
      "108                  1.010773 2021-06-21     1\n",
      "109                  0.669767 2021-06-21     7\n",
      "110                  0.924661 2021-06-21    10\n",
      "111                  0.580396 2021-06-21    14\n",
      "112                  1.120224 2021-06-23     1\n",
      "113                  0.763632 2021-06-23     6\n",
      "114                  0.921308 2021-06-23    11\n",
      "115                  0.558538 2021-06-23    13\n",
      "116                  1.423764 2021-06-23     1\n",
      "117                  1.280477 2021-06-23     7\n",
      "118                  1.964856 2021-06-23    10\n",
      "119                  1.716145 2021-06-23    14\n",
      "120                  1.735092 2021-06-30     1\n",
      "121                  1.560421 2021-06-30     6\n",
      "122                  1.271640 2021-06-30    11\n",
      "123                  1.946403 2021-06-30    13\n",
      "124                  1.300201 2021-06-30     1\n",
      "125                  2.017581 2021-06-30     7\n",
      "126                  1.520169 2021-06-30    10\n",
      "127                  1.729606 2021-06-30    14\n",
      "128                  1.571153 2021-07-02     1\n",
      "129                  1.974199 2021-07-02     6\n",
      "130                  1.903339 2021-07-02    11\n",
      "131                  1.212395 2021-07-02    13\n",
      "132                  1.727514 2021-07-02     1\n",
      "133                  1.132980 2021-07-02     7\n",
      "134                  1.945217 2021-07-02    10\n",
      "135                  1.997545 2021-07-02    14\n",
      "136                  1.993312 2021-07-05     1\n",
      "137                  1.228070 2021-07-05     6\n",
      "138                  1.650282 2021-07-05    11\n",
      "139                  1.943722 2021-07-05    13\n",
      "140                  1.980310 2021-07-05     1\n",
      "141                  1.632052 2021-07-05     7\n",
      "142                  1.723271 2021-07-05    10\n",
      "143                  1.182584 2021-07-05    14\n",
      "144                  2.027587 2021-07-07     1\n",
      "145                  1.772922 2021-07-07     6\n",
      "146                  1.826035 2021-07-07    11\n",
      "147                  1.195665 2021-07-07    13\n",
      "148                  0.840105 2021-07-07     1\n",
      "149                  1.468675 2021-07-07     7\n",
      "150                  0.934283 2021-07-07    10\n",
      "151                  0.800399 2021-07-07    14\n",
      "152                  1.529235 2021-07-09     1\n",
      "153                  0.962722 2021-07-09     6\n",
      "154                  0.927901 2021-07-09    11\n",
      "155                  0.842005 2021-07-09    13\n",
      "156                  1.513830 2021-07-09     1\n",
      "157                  0.905625 2021-07-09     7\n",
      "158                  0.832685 2021-07-09    10\n",
      "159                  1.404753 2021-07-09    14\n",
      "160                  0.821587 2021-07-12     1\n",
      "161                  0.929831 2021-07-12     6\n",
      "162                  1.411277 2021-07-12    11\n",
      "163                  0.862273 2021-07-12    13\n",
      "164                  1.408621 2021-07-12     1\n",
      "165                  0.807030 2021-07-12     7\n",
      "166                  1.088804 2021-07-12    10\n",
      "167                  1.544236 2021-07-12    14\n",
      "168                  1.242296 2021-07-14     1\n",
      "169                  1.092749 2021-07-14     6\n",
      "170                  1.509481 2021-07-14    11\n",
      "171                  1.305522 2021-07-14    13\n",
      "172                  1.280885 2021-07-14     1\n",
      "173                  1.058341 2021-07-14     7\n",
      "174                  1.505217 2021-07-14    10\n",
      "175                  1.172997 2021-07-14    14\n",
      "176                  1.044302 2021-07-16     1\n",
      "177                  1.428831 2021-07-16     6\n",
      "178                  1.022424 2021-07-16    11\n",
      "179                  1.200659 2021-07-16    13\n",
      "180                  1.502956 2021-07-16     1\n",
      "181                  1.158684 2021-07-16     7\n",
      "182                  1.444456 2021-07-16    10\n",
      "183                  1.064723 2021-07-16    14\n",
      "184                  0.583631 2021-07-19     1\n",
      "185                  1.040821 2021-07-19     6\n",
      "186                  0.742601 2021-07-19    11\n",
      "187                  0.632892 2021-07-19    13\n",
      "188                  1.025222 2021-07-19     1\n",
      "189                  0.753252 2021-07-19     7\n",
      "190                  0.767203 2021-07-19    10\n",
      "191                  0.647663 2021-07-19    14\n",
      "192                  0.990511 2021-07-21     1\n",
      "193                  0.790880 2021-07-21     6\n",
      "194                  0.577059 2021-07-21    11\n",
      "195                  0.957867 2021-07-21    13\n",
      "196                  0.582605 2021-07-21     1\n",
      "197                  0.737351 2021-07-21     7\n",
      "198                  1.010240 2021-07-21    10\n",
      "199                  0.782211 2021-07-21    14\n",
      "200                  1.008400 2021-07-23     1\n",
      "201                  0.640020 2021-07-23     6\n",
      "202                  0.811485 2021-07-23    11\n",
      "203                  0.755272 2021-07-23    13\n",
      "204                  1.261158 2021-07-23     1\n",
      "205                  1.251547 2021-07-23     7\n",
      "206                  1.297305 2021-07-23    10\n",
      "207                  0.847461 2021-07-23    14\n",
      "208                  0.748465 2021-07-26     1\n",
      "209                  1.264218 2021-07-26     6\n",
      "210                  0.815326 2021-07-26    11\n",
      "211                  1.231208 2021-07-26    13\n",
      "212                  0.900401 2021-07-26     1\n",
      "213                  1.270762 2021-07-26     7\n",
      "214                  0.915724 2021-07-26    10\n",
      "215                  1.253919 2021-07-26    14\n",
      "216                  1.224588 2021-07-28     1\n",
      "217                  0.836462 2021-07-28     6\n",
      "218                  0.913845 2021-07-28    11\n",
      "219                  0.799441 2021-07-28    13\n",
      "220                  1.236846 2021-07-28     1\n",
      "221                  1.249249 2021-07-28     7\n",
      "222                  1.266838 2021-07-28    10\n",
      "223                  0.816692 2021-07-28    14\n",
      "224                  0.863793 2021-07-30     1\n",
      "225                  1.280268 2021-07-30     6\n",
      "226                  1.259828 2021-07-30    11\n",
      "227                  0.863342 2021-07-30    13\n",
      "228                  1.382808 2021-07-30     1\n",
      "229                  0.827345 2021-07-30     7\n",
      "230                  1.216360 2021-07-30    10\n",
      "231                  1.291213 2021-07-30    14\n",
      "232                  1.362471 2021-08-02     1\n",
      "233                  1.392885 2021-08-02     6\n",
      "234                  1.055971 2021-08-02    11\n",
      "235                  1.370181 2021-08-02    13\n",
      "236                  1.463622 2021-08-02     1\n",
      "237                  1.288998 2021-08-02     7\n",
      "238                  1.472068 2021-08-02    10\n",
      "239                  1.213187 2021-08-02    14\n",
      "240                  1.333115 2021-08-04     1\n",
      "241                  1.230542 2021-08-04     6\n",
      "242                  1.476699 2021-08-04    11\n",
      "243                  1.405449 2021-08-04    13\n",
      "244                  1.277131 2021-08-04     1\n",
      "245                  1.268721 2021-08-04     7\n",
      "246                  1.259170 2021-08-04    10\n",
      "247                  1.412156 2021-08-04    14\n",
      "248                  1.525814 2021-08-06     1\n",
      "249                  1.487455 2021-08-06     6\n",
      "250                  1.255636 2021-08-06    11\n",
      "251                  1.265829 2021-08-06    13\n",
      "252                  1.395305 2021-08-06     1\n",
      "253                  1.458445 2021-08-06     7\n",
      "254                  1.278852 2021-08-06    10\n",
      "255                  1.327524 2021-08-06    14\n",
      "256                  1.282181 2021-08-09     1\n",
      "257                  1.564425 2021-08-09     6\n",
      "258                  1.378058 2021-08-09    11\n",
      "259                  1.306842 2021-08-09    13\n",
      "260                  1.269211 2021-08-09     1\n",
      "261                  0.703886 2021-08-09     7\n",
      "262                  0.644855 2021-08-09    10\n",
      "263                  0.920971 2021-08-09    14\n",
      "264                  0.873697 2021-08-11     1\n",
      "265                  0.888630 2021-08-11     6\n",
      "266                  0.751413 2021-08-11    11\n",
      "267                  0.635726 2021-08-11    13\n",
      "268                  0.929092 2021-08-11     1\n",
      "269                  0.615583 2021-08-11     7\n",
      "270                  0.934589 2021-08-11    10\n",
      "271                  0.741937 2021-08-11    14\n",
      "272                  0.851500 2021-08-13     1\n",
      "273                  0.741019 2021-08-13     6\n",
      "274                  0.929363 2021-08-13    11\n",
      "275                  0.882281 2021-08-13    13\n",
      "276                  0.611619 2021-08-13     1\n",
      "277                  0.732982 2021-08-13     7\n",
      "278                  0.580381 2021-08-13    10\n",
      "279                  0.936222 2021-08-13    14\n",
      "280                  0.961357 2021-08-16     1\n",
      "281                  0.934415 2021-08-16     6\n",
      "282                  0.594052 2021-08-16    11\n",
      "283                  0.697473 2021-08-16    13\n",
      "284                  0.929633 2021-08-16     1\n",
      "285                  0.914880 2021-08-16     7\n",
      "286                  0.713629 2021-08-16    10\n",
      "287                  0.865497 2021-08-16    14\n",
      "288                  0.592800 2021-08-18     1\n",
      "289                  0.975335 2021-08-18     6\n",
      "290                  0.699932 2021-08-18    11\n",
      "291                  0.855989 2021-08-18    13\n",
      "292                  0.590657 2021-08-18     1\n"
     ]
    }
   ],
   "source": [
    "#predicted clipping yield will be save as excel file\n",
    "y_pred3 = trained_model.predict(x_mpred)\n",
    "narr=np.array(y_pred3)\n",
    "df_pred = DataFrame({'clipping_pred':narr})\n",
    "df_pred\n",
    "df.to_excel('Predicted clipping.xlsx', sheet_name='sheet1', index=False)\n",
    "predicted_clipping_data = pd.read_excel(\"Predicted clipping.xlsx\")\n",
    "\n",
    "actual_data = pd.read_excel(\"C:\\\\Users\\\\qzhou9\\\\Growth model - clippings\\\\Data\\\\Noer clipping 2021.xlsx\")\n",
    "actual_data = actual_data[['date', 'Plot']]\n",
    "\n",
    "merged_df = predicted_clipping_data.merge(actual_data, left_index=True, right_index=True)\n",
    "merged_df.to_excel(\"Predicted clipping.xlsx\", index=False)\n",
    "\n",
    "\n",
    "pd.set_option('display.max_rows', None)\n",
    "print(merged_df)"
   ]
  },
  {
   "cell_type": "markdown",
   "id": "818596fe",
   "metadata": {},
   "source": [
    "# Nitrogen Fertilizer Recommendation\n",
    "Once we have daily predicted clipping yield, and if you recommend to fertilize every week, and adding up the weekly clipping yield, Fertilizer recommendation = weekly clipping yield * 0.039, where 0.039 represent the 3.9% leaf nitrogen content in the creeping bentgrass. I just did in the excel file, no code for this. But should be fairly simple to do so, if you need one."
   ]
  }
 ],
 "metadata": {
  "kernelspec": {
   "display_name": "Python 3 (ipykernel)",
   "language": "python",
   "name": "python3"
  },
  "language_info": {
   "codemirror_mode": {
    "name": "ipython",
    "version": 3
   },
   "file_extension": ".py",
   "mimetype": "text/x-python",
   "name": "python",
   "nbconvert_exporter": "python",
   "pygments_lexer": "ipython3",
   "version": "3.9.12"
  }
 },
 "nbformat": 4,
 "nbformat_minor": 5
}
